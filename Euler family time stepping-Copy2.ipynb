{
 "cells": [
  {
   "cell_type": "markdown",
   "metadata": {},
   "source": [
    "# Forward Euler family"
   ]
  },
  {
   "cell_type": "code",
   "execution_count": 1,
   "metadata": {},
   "outputs": [
    {
     "name": "stdout",
     "output_type": "stream",
     "text": [
      "Populating the interactive namespace from numpy and matplotlib\n"
     ]
    }
   ],
   "source": [
    "% pylab inline"
   ]
  },
  {
   "cell_type": "code",
   "execution_count": 29,
   "metadata": {},
   "outputs": [],
   "source": [
    "def exact_solution(t):\n",
    "    uExact=[2*cos(t),2*sin(t)]\n",
    "    vExact=[-2*sin(t),2*cos(t)]\n",
    "    return uExact,vExact"
   ]
  },
  {
   "cell_type": "code",
   "execution_count": 32,
   "metadata": {},
   "outputs": [
    {
     "data": {
      "text/plain": [
       "[<matplotlib.lines.Line2D at 0x225d4f49ef0>]"
      ]
     },
     "execution_count": 32,
     "metadata": {},
     "output_type": "execute_result"
    },
    {
     "data": {
      "image/png": "[encoded data removed]",
      "text/plain": [
       "<Figure size 432x288 with 1 Axes>"
      ]
     },
     "metadata": {
      "needs_background": "light"
     },
     "output_type": "display_data"
    }
   ],
   "source": [
    "h=.01\n",
    "tInitial,tFinal=0,10\n",
    "tExact=arange(tInitial,tFinal,h)\n",
    "uExact=zeros((len(tExact),2))\n",
    "vExact=zeros((len(tExact),2))\n",
    "xExact=zeros(len(tExact))\n",
    "for i in range (len(tExact)):\n",
    "    uExact[i],vExact[i]=exact_solution(tExact[i])\n",
    "    xExact[i]=uExact[i,0]\n",
    "plot(tExact,xExact)"
   ]
  },
  {
   "cell_type": "markdown",
   "metadata": {},
   "source": [
    "# A simple Ode solver"
   ]
  },
  {
   "cell_type": "code",
   "execution_count": null,
   "metadata": {},
   "outputs": [],
   "source": []
  },
  {
   "cell_type": "code",
   "execution_count": 20,
   "metadata": {},
   "outputs": [],
   "source": [
    "def my_ODE_solver(uo,tInitial,tFinal,deltaT,gamma):\n",
    "    time=arange(tInitial,tFinal+deltaT,deltaT)\n",
    "    nSteps=len(time)\n",
    "    u=zeros((nSteps,2))\n",
    "    v=zeros((nSteps,2))\n",
    "    u[0]=uo\n",
    "    v[0]=[0,2]\n",
    "    for i in range(nSteps-1):\n",
    "        v[i+1,0] = (-u[i,1]-deltaT*(1-gamma)*v[i,1]-deltaT*gamma*u[i,0]-(deltaT**2)*gamma*(1-gamma)*v[i,0])\n",
    "        #v[i+1,0] = (-u[i,1]-deltaT*gamma*u[i,0])\n",
    "        v[i+1,1]=(-deltaT*gamma*u[i,1]-(deltaT**2)*gamma*(1-gamma)*v[i,1]+u[i,0]+deltaT*(1-gamma)*v[i,0])\n",
    "        #v[i+1,1]=(-deltaT*gamma*u[i,1]+u[i,0])\n",
    "        u[i+1,0] =u[i,0]+deltaT*(1-gamma)*v[i,0]+gamma*v[i+1,0]\n",
    "        u[i+1,1]=u[i,1]+deltaT*(1-gamma)*v[i,1]+gamma*v[i+1,1]\n",
    "    return time,u,v\n"
   ]
  },
  {
   "cell_type": "code",
   "execution_count": 49,
   "metadata": {},
   "outputs": [
    {
     "name": "stdout",
     "output_type": "stream",
     "text": [
      "[ 0.    0.01  0.02 ...  9.98  9.99 10.  ]\n",
      "[ 2.00000000e+000  1.98000000e+000 -3.98000000e-002 ... -2.12669021e+148\n",
      " -1.44139442e+148  1.35709833e+148]\n",
      "[0.000e+00 1.000e-03 2.000e-03 ... 9.998e+00 9.999e+00 1.000e+01]\n"
     ]
    }
   ],
   "source": [
    "uo=[2,0]\n",
    "tInitial,tFinal=0,10\n",
    "deltaT1=.01\n",
    "gamma=1\n",
    "tB,uB,vF=my_ODE_solver(uo,tInitial,tFinal,deltaT1,gamma)\n",
    "print(tB)\n",
    "time=arange(tInitial,tFinal+deltaT1,deltaT1)\n",
    "nSteps=len(time)\n",
    "r=zeros(nSteps)\n",
    "for i in range (nSteps):\n",
    "    r[i]=uB[i,0]\n",
    "print(r)\n",
    "#print(len(tB))\n",
    "#print(len(uB))\n",
    "gamma=0\n",
    "deltaT2=.001\n",
    "tF,uF,vF=my_ODE_solver(uo,tInitial,tFinal,deltaT2,gamma)\n",
    "print(tF)\n"
   ]
  },
  {
   "cell_type": "code",
   "execution_count": 50,
   "metadata": {},
   "outputs": [
    {
     "data": {
      "text/plain": [
       "Text(0,0.5,'u(t)')"
      ]
     },
     "execution_count": 50,
     "metadata": {},
     "output_type": "execute_result"
    },
    {
     "data": {
      "image/png": "[encoded data removed]",
      "text/plain": [
       "<Figure size 432x288 with 1 Axes>"
      ]
     },
     "metadata": {
      "needs_background": "light"
     },
     "output_type": "display_data"
    }
   ],
   "source": [
    "plot(tB,uB,'r*--')\n",
    "plot(tF,uF,'b+--')\n",
    "plot(tExact,xExact,'k')\n",
    "xlabel('t')\n",
    "ylabel('u(t)')\n",
    "#legend([\"backward\",\"forward\",\"exact\"])"
   ]
  },
  {
   "cell_type": "markdown",
   "metadata": {},
   "source": [
    "# order of convergence"
   ]
  },
  {
   "cell_type": "code",
   "execution_count": null,
   "metadata": {},
   "outputs": [],
   "source": []
  },
  {
   "cell_type": "code",
   "execution_count": null,
   "metadata": {},
   "outputs": [],
   "source": []
  },
  {
   "cell_type": "code",
   "execution_count": null,
   "metadata": {},
   "outputs": [],
   "source": []
  },
  {
   "cell_type": "code",
   "execution_count": null,
   "metadata": {},
   "outputs": [],
   "source": []
  },
  {
   "cell_type": "code",
   "execution_count": null,
   "metadata": {},
   "outputs": [],
   "source": [
    "u=zeros((2,2))\n",
    "uo=[2,3]\n",
    "print(u)\n",
    "u[0]=uo\n",
    "print(u)"
   ]
  },
  {
   "cell_type": "code",
   "execution_count": null,
   "metadata": {},
   "outputs": [],
   "source": [
    "for i in range (3):\n",
    "    c=i+1\n",
    "    print(c)"
   ]
  },
  {
   "cell_type": "code",
   "execution_count": null,
   "metadata": {},
   "outputs": [],
   "source": []
  }
 ],
 "metadata": {
  "kernelspec": {
   "display_name": "Python 3",
   "language": "python",
   "name": "python3"
  },
  "language_info": {
   "codemirror_mode": {
    "name": "ipython",
    "version": 3
   },
   "file_extension": ".py",
   "mimetype": "text/x-python",
   "name": "python",
   "nbconvert_exporter": "python",
   "pygments_lexer": "ipython3",
   "version": "3.7.0"
  }
 },
 "nbformat": 4,
 "nbformat_minor": 2
}
