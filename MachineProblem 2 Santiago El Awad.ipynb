{
 "cells": [
  {
   "cell_type": "code",
   "execution_count": 34,
   "id": "ee5d5ab9",
   "metadata": {},
   "outputs": [],
   "source": [
    "import numpy as np\n",
    "import matplotlib.pyplot as plt\n",
    "import math"
   ]
  },
  {
   "cell_type": "code",
   "execution_count": 18,
   "id": "7c6f02bf",
   "metadata": {},
   "outputs": [
    {
     "ename": "IndentationError",
     "evalue": "expected an indented block (Temp/ipykernel_8568/1467144367.py, line 20)",
     "output_type": "error",
     "traceback": [
      "\u001b[1;36m  File \u001b[1;32m\"C:\\Users\\seelawad\\AppData\\Local\\Temp/ipykernel_8568/1467144367.py\"\u001b[1;36m, line \u001b[1;32m20\u001b[0m\n\u001b[1;33m    v[i+1] = -lmbda * (u[i] + deltaT * (1 - gamma) * v[i]) /(1 + gamm\u001b[0m\n\u001b[1;37m    ^\u001b[0m\n\u001b[1;31mIndentationError\u001b[0m\u001b[1;31m:\u001b[0m expected an indented block\n"
     ]
    }
   ],
   "source": [
    "def Midpoint_method(u0,lmbda,tInitial,tFinal,deltaT,gamma):\n",
    "    '''\n",
    "    Santiago El Awad\n",
    "    CIVE 7397 - MP2 Problem#1\n",
    "    Midpoint_method\n",
    "    Variables:\n",
    "    func: function handler containing f(t,x)\n",
    "    xO: initial condition\n",
    "    t_start: starting time\n",
    "    deltat: user-specified maximum allowable time step\n",
    "    '''\n",
    "   \n",
    "    time = np.arange(tInitial,tFinal+deltaT,deltaT)\n",
    "    nSteps = len(time)\n",
    "    u,v = zeros(nSteps), zeros(nSteps)\n",
    "    u[0] = u0\n",
    "    v[0] = -lmbda * u0\n",
    "    \n",
    "    for i in range(nSteps-1):\n",
    "    v[i+1] = -lmbda * (u[i] + deltaT * (1 - gamma) * v[i]) /(1 + gamm\n",
    "    u[i+1] = u[i] + deltaT * ( (1 - gamma) * v[i] + gamma * v[i+1] )\n",
    "    return time, u, v"
   ]
  },
  {
   "cell_type": "code",
   "execution_count": 19,
   "id": "fcd4aace",
   "metadata": {},
   "outputs": [
    {
     "data": {
      "text/plain": [
       "array([0, 1, 2, 3, 4, 5, 6, 7, 8, 9])"
      ]
     },
     "execution_count": 19,
     "metadata": {},
     "output_type": "execute_result"
    }
   ],
   "source": [
    "np.arange(0,10,1)"
   ]
  },
  {
   "cell_type": "code",
   "execution_count": 20,
   "id": "5ab74066",
   "metadata": {},
   "outputs": [
    {
     "ename": "IndentationError",
     "evalue": "expected an indented block (Temp/ipykernel_8568/1119670898.py, line 8)",
     "output_type": "error",
     "traceback": [
      "\u001b[1;36m  File \u001b[1;32m\"C:\\Users\\seelawad\\AppData\\Local\\Temp/ipykernel_8568/1119670898.py\"\u001b[1;36m, line \u001b[1;32m8\u001b[0m\n\u001b[1;33m    v[i+1] = -lmbda * (u[i] + deltaT * (1 - gamma) * v[i]) /(1 + gamm\u001b[0m\n\u001b[1;37m    ^\u001b[0m\n\u001b[1;31mIndentationError\u001b[0m\u001b[1;31m:\u001b[0m expected an indented block\n"
     ]
    }
   ],
   "source": [
    "def my_ODE_solver(u0,lmbda,tInitial,tFinal,deltaT,gamma):\n",
    "    time = np.arange(tInitial,tFinal+deltaT,deltaT)\n",
    "    nSteps = len(time)\n",
    "    u,v = zeros(nSteps), zeros(nSteps)\n",
    "    u[0] = u0\n",
    "    v[0] = -lmbda * u0\n",
    "    for i in range(nSteps-1):\n",
    "    v[i+1] = -lmbda * (u[i] + deltaT * (1 - gamma) * v[i]) /(1 + gamm\n",
    "    u[i+1] = u[i] + deltaT * ( (1 - gamma) * v[i] + gamma * v[i+1] )\n",
    "    return time, u, v"
   ]
  },
  {
   "cell_type": "code",
   "execution_count": 44,
   "id": "c7b6d303",
   "metadata": {},
   "outputs": [],
   "source": [
    "def exactSolution(t):\n",
    "    uExact = np.exp(np.cos(2*np.pi*t)-.25*t-1)\n",
    "    vExact = -(2*(np.pi)*np.sin(2*np.pi*t)-0.25)*np.exp(np.cos(2*np.pi*t)-.25*t-1)\n",
    "    return uExact, vExact"
   ]
  },
  {
   "cell_type": "code",
   "execution_count": 46,
   "id": "32a84d01",
   "metadata": {},
   "outputs": [
    {
     "data": {
      "text/plain": [
       "Text(0.5, 1.0, 'Exact Solution')"
      ]
     },
     "execution_count": 46,
     "metadata": {},
     "output_type": "execute_result"
    },
    {
     "data": {
      "image/png": "[encoded data removed]",
      "text/plain": [
       "<Figure size 432x288 with 1 Axes>"
      ]
     },
     "metadata": {
      "needs_background": "light"
     },
     "output_type": "display_data"
    }
   ],
   "source": [
    "h=.01\n",
    "tInitial,tFinal=0,5\n",
    "tExact = np.arange(tInitial,tFinal,h)\n",
    "uExact = np.zeros((len(tExact),1))\n",
    "vExact = np.zeros((len(tExact),1))\n",
    "for i in range (len(tExact)):\n",
    "    uExact[i],vExact[i] = exactSolution(tExact[i])\n",
    "plt.plot(tExact,uExact)\n",
    "plt.xlabel('t')\n",
    "plt.ylabel('u(t)')\n",
    "plt.title(\"Exact Solution\")"
   ]
  },
  {
   "cell_type": "code",
   "execution_count": 25,
   "id": "651a5750",
   "metadata": {},
   "outputs": [
    {
     "data": {
      "text/plain": [
       "3.141592653589793"
      ]
     },
     "execution_count": 25,
     "metadata": {},
     "output_type": "execute_result"
    }
   ],
   "source": [
    "np.pi"
   ]
  },
  {
   "cell_type": "code",
   "execution_count": null,
   "id": "70893200",
   "metadata": {},
   "outputs": [],
   "source": []
  }
 ],
 "metadata": {
  "kernelspec": {
   "display_name": "Python 3 (ipykernel)",
   "language": "python",
   "name": "python3"
  },
  "language_info": {
   "codemirror_mode": {
    "name": "ipython",
    "version": 3
   },
   "file_extension": ".py",
   "mimetype": "text/x-python",
   "name": "python",
   "nbconvert_exporter": "python",
   "pygments_lexer": "ipython3",
   "version": "3.8.8"
  }
 },
 "nbformat": 4,
 "nbformat_minor": 5
}
