{
 "cells": [
  {
   "cell_type": "markdown",
   "id": "272fc4ba",
   "metadata": {},
   "source": [
    "### Problem#1 : Mid Point Method"
   ]
  },
  {
   "cell_type": "markdown",
   "id": "305d7efc",
   "metadata": {},
   "source": [
    "#### Midpoint Method\n",
    "Assume ODE of the form,\n",
    "$$x'(t)=f(t,x(t))$$\n",
    "Initial condition $x(t_{0})=x_{0}$.\n",
    "\n",
    "The explicit method is given by the formula\n",
    "$$x_{n+1}=x_{n}+hf\\left(t_{n}+\\frac{h}{2},x_{n}+\\frac{h}{2}f(t_{n},x_{n})\\right)$$\n",
    "\n"
   ]
  },
  {
   "cell_type": "code",
   "execution_count": 2,
   "id": "c42ad800",
   "metadata": {},
   "outputs": [],
   "source": [
    "%matplotlib inline\n",
    "import numpy as np\n",
    "import matplotlib.pyplot as plt\n",
    "import scipy.linalg as linalg\n",
    "import scipy.optimize as opt"
   ]
  },
  {
   "cell_type": "code",
   "execution_count": 3,
   "id": "f2e0f5c2",
   "metadata": {},
   "outputs": [],
   "source": [
    "def Midpoint_method(func, x0, t_start, t_end, deltat):\n",
    "    \"\"\"\n",
    "    This program solves a system of first order ODE using mid point method.\n",
    "    \n",
    "    user defined func: \n",
    "                        def diff_eqn(t, x):\n",
    "                            if x < -1 or x > 1:\n",
    "                                return np.nan\n",
    "                            else:\n",
    "                                return np.sqrt(1 - x**2)\n",
    "    \n",
    "    >>>t, x = Midpoint_method(diff_eqn, x0, 0, 1, 0.1)\n",
    "    \n",
    "    t:  [0.  0.1 0.2 0.3 0.4 0.5 0.6 0.7 0.8 0.9 1. ]\n",
    "    x:  [[0.         0.09987492 0.1987492  0.29563156 0.38955061 0.4795646\n",
    "                      0.56477086 0.64431479 0.71739842 0.7832883  0.84132273]]\n",
    "    \n",
    "    Written by: Anand Mathew\n",
    "    Date: 04/19/23\n",
    "    \n",
    "    \"\"\"\n",
    "    # Number of time steps.\n",
    "    Nsteps = int((t_end - t_start) / deltat) + 1\n",
    "    \n",
    "    # Initializing.\n",
    "    t = np.zeros(Nsteps)\n",
    "    t[0] = t_start\n",
    "    t[-1] = t_end\n",
    "    x = np.zeros((len(x0), Nsteps))\n",
    "    x[:, 0] = x0\n",
    "    \n",
    "    # Calculating the final solutions using the midpoint method.\n",
    "    for i in range(Nsteps - 1):\n",
    "        t_average = t[i]+ deltat/ 2\n",
    "        temp = x[:, i] + (deltat/2) * func(t[i], x[:, i])\n",
    "        x[:, i+1] = x[:, i] + deltat * func(t_average, temp)\n",
    "        t[i+1] = t[i] + deltat\n",
    "    \n",
    "    return t, x\n"
   ]
  },
  {
   "cell_type": "code",
   "execution_count": 5,
   "id": "5b582603",
   "metadata": {},
   "outputs": [
    {
     "data": {
      "image/png": "[encoded data removed]",
      "text/plain": [
       "<Figure size 640x480 with 1 Axes>"
      ]
     },
     "metadata": {},
     "output_type": "display_data"
    },
    {
     "name": "stdout",
     "output_type": "stream",
     "text": [
      "t:  [0.  0.1 0.2 0.3 0.4 0.5 0.6 0.7 0.8 0.9 1. ]\n",
      "x:  [[0.         0.09987492 0.1987492  0.29563156 0.38955061 0.4795646\n",
      "  0.56477086 0.64431479 0.71739842 0.7832883  0.84132273]]\n"
     ]
    }
   ],
   "source": [
    "# ODE function\n",
    "def diff_eqn(t, x):\n",
    "    if x < -1 or x > 1:\n",
    "        return np.nan\n",
    "    else:\n",
    "        return np.sqrt(1 - x**2)\n",
    "\n",
    "# define the initial condition\n",
    "x0 = np.array([0])\n",
    "\n",
    "# solve the differential equation using the midpoint method\n",
    "t, x = Midpoint_method(diff_eqn, x0, 0, 1, 0.1)\n",
    "\n",
    "# plot the solution\n",
    "plt.plot(t, x[0])\n",
    "plt.xlabel('t')\n",
    "plt.ylabel('x(t)')\n",
    "plt.title('Solution of ODE')\n",
    "plt.show()\n",
    "\n",
    "\n",
    "print(\"t: \", t)\n",
    "print(\"x: \", x)"
   ]
  },
  {
   "cell_type": "code",
   "execution_count": null,
   "id": "3d0d17e1",
   "metadata": {},
   "outputs": [],
   "source": []
  }
 ],
 "metadata": {
  "kernelspec": {
   "display_name": "Python 3 (ipykernel)",
   "language": "python",
   "name": "python3"
  },
  "language_info": {
   "codemirror_mode": {
    "name": "ipython",
    "version": 3
   },
   "file_extension": ".py",
   "mimetype": "text/x-python",
   "name": "python",
   "nbconvert_exporter": "python",
   "pygments_lexer": "ipython3",
   "version": "3.9.12"
  }
 },
 "nbformat": 4,
 "nbformat_minor": 5
}
