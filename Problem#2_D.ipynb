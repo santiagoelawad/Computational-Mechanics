{
 "cells": [
  {
   "cell_type": "markdown",
   "id": "5c8f1bea",
   "metadata": {},
   "source": [
    "### Problem#1 : Runge-Kutta Method"
   ]
  },
  {
   "cell_type": "markdown",
   "id": "ff0297df",
   "metadata": {},
   "source": [
    "#### Runge-Kutta Method\n",
    "Assume ODE of the form,\n",
    "$$x'(t)=f(t,x(t))$$\n",
    "Initial condition $x(t_{0})=x_{0}$.\n",
    "\n",
    "The explicit method is given by the formula\n",
    "$$x_{n+1}=x_{n}+\\frac{1}{6}h\\left(k_1+k_2+k_3+k_4\\right)$$\n",
    "\n",
    "Where the constants $k_1$, $k_2$, $k_3$ and $k_4$ are given by,\n",
    "$$k_1=f(t_n,x_n)$$\n",
    "$$k_2=f\\left(t_n+\\frac{h}{2},x_n+\\frac{hk_1}{2}\\right)$$\n",
    "$$k_3=f\\left(t_n+\\frac{h}{2},x_n+\\frac{hk_2}{2}\\right)$$\n",
    "$$k_1=f(t_n+h,x_n+hk_3)$$"
   ]
  },
  {
   "cell_type": "code",
   "execution_count": 2,
   "id": "72217bc6",
   "metadata": {},
   "outputs": [],
   "source": [
    "%matplotlib inline\n",
    "import numpy as np\n",
    "import matplotlib.pyplot as plt\n",
    "import scipy.linalg as linalg\n",
    "import scipy.optimize as opt"
   ]
  },
  {
   "cell_type": "code",
   "execution_count": 14,
   "id": "0a875122",
   "metadata": {},
   "outputs": [],
   "source": [
    "def RK4(func, x0, t_start, t_end, deltat):\n",
    "    \"\"\"\n",
    "    This program solves a system of first order ODE using mid point method.\n",
    "    \n",
    "    user defined func: \n",
    "                        def diff_eqn(t, x):\n",
    "                            if x < -1 or x > 1:\n",
    "                                return np.nan\n",
    "                            else:\n",
    "                                return np.sqrt(1 - x**2)\n",
    "    \n",
    "    >>>t, x = RK4(diff_eqn, x0, 0, 1, 0.1)\n",
    "    \n",
    "        t:  [0.  0.1 0.2 0.3 0.4 0.5 0.6 0.7 0.8 0.9 1. ]\n",
    "        x:  [[0.         0.09983338 0.19866926 0.2955201  0.38941818 0.4794253\n",
    "                          0.56464212 0.64421717 0.71735531 0.78332571 0.84146906]]\n",
    "    \n",
    "    Written by: Anand Mathew\n",
    "    Date: 04/19/23\n",
    "    \n",
    "    \"\"\"\n",
    "    # Number of time steps.\n",
    "    Nsteps = int((t_end - t_start) / deltat) + 1\n",
    "    \n",
    "    # Initializing.\n",
    "    t = np.zeros(Nsteps)\n",
    "    t[0] = t_start\n",
    "    x = np.zeros((len(x0), Nsteps))\n",
    "    x[:, 0] = x0\n",
    "    \n",
    "    # Calculating the final solutions using RK4.\n",
    "    for i in range(Nsteps - 1):\n",
    "        t[i+1] = t[i] + deltat\n",
    "        \n",
    "        # Solving for the constants\n",
    "        k1 = func(t[i], x[:, i])\n",
    "        k2 = func(t[i] + 0.5*deltat, x[:, i] + 0.5*deltat*k1)\n",
    "        k3 = func(t[i] + 0.5*deltat, x[:, i] + 0.5*deltat*k2)\n",
    "        k4 = func(t[i] + deltat, x[:, i] + deltat*k3)\n",
    "        \n",
    "        # Final equation to solve for the variables\n",
    "        x[:, i+1] = x[:, i] + (1/6)*deltat*(k1 + 2*k2 + 2*k3 + k4)\n",
    "    \n",
    "    return t, x\n"
   ]
  },
  {
   "cell_type": "code",
   "execution_count": 15,
   "id": "4eff123b",
   "metadata": {},
   "outputs": [
    {
     "data": {
      "image/png": "[encoded data removed]",
      "text/plain": [
       "<Figure size 640x480 with 1 Axes>"
      ]
     },
     "metadata": {},
     "output_type": "display_data"
    },
    {
     "name": "stdout",
     "output_type": "stream",
     "text": [
      "t:  [0.  0.1 0.2 0.3 0.4 0.5 0.6 0.7 0.8 0.9 1. ]\n",
      "x:  [[0.         0.09983338 0.19866926 0.2955201  0.38941818 0.4794253\n",
      "  0.56464212 0.64421717 0.71735531 0.78332571 0.84146906]]\n"
     ]
    }
   ],
   "source": [
    "# ODE function\n",
    "def diff_eqn(t, x):\n",
    "    if x < -1 or x > 1:\n",
    "        return np.nan\n",
    "    else:\n",
    "        return np.sqrt(1 - x**2)\n",
    "\n",
    "# define the initial condition\n",
    "x0 = np.array([0])\n",
    "\n",
    "# solve the differential equation using the midpoint method\n",
    "t, x = RK4(diff_eqn, x0, 0, 1, 0.1)\n",
    "\n",
    "# plot the solution\n",
    "plt.plot(t, x[0])\n",
    "plt.xlabel('t')\n",
    "plt.ylabel('x(t)')\n",
    "plt.title('Solution of ODE')\n",
    "plt.show()\n",
    "\n",
    "\n",
    "print(\"t: \", t)\n",
    "print(\"x: \", x)"
   ]
  },
  {
   "cell_type": "code",
   "execution_count": null,
   "id": "aa3a66bf",
   "metadata": {},
   "outputs": [],
   "source": []
  }
 ],
 "metadata": {
  "kernelspec": {
   "display_name": "Python 3 (ipykernel)",
   "language": "python",
   "name": "python3"
  },
  "language_info": {
   "codemirror_mode": {
    "name": "ipython",
    "version": 3
   },
   "file_extension": ".py",
   "mimetype": "text/x-python",
   "name": "python",
   "nbconvert_exporter": "python",
   "pygments_lexer": "ipython3",
   "version": "3.9.12"
  }
 },
 "nbformat": 4,
 "nbformat_minor": 5
}
