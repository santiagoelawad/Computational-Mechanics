{
 "cells": [
  {
   "cell_type": "code",
   "execution_count": 1,
   "metadata": {},
   "outputs": [
    {
     "name": "stdout",
     "output_type": "stream",
     "text": [
      "Populating the interactive namespace from numpy and matplotlib\n"
     ]
    }
   ],
   "source": [
    "%pylab inline"
   ]
  },
  {
   "cell_type": "code",
   "execution_count": 4,
   "metadata": {},
   "outputs": [],
   "source": [
    "e_rt=5e-4\n",
    "inc=20000\n",
    "dt=.01\n",
    "e=zeros((inc,1))\n",
    "t=zeros((inc,1))\n",
    "yp=zeros((inc,1))\n",
    "strn=zeros((inc,1))\n",
    "strs=zeros((inc,1))\n",
    "g=76e9\n",
    "to=9e8\n",
    "yo=.011842\n",
    "n=.01\n",
    "m=.01\n",
    "h=.3"
   ]
  },
  {
   "cell_type": "code",
   "execution_count": 5,
   "metadata": {},
   "outputs": [
    {
     "data": {
      "text/plain": [
       "[<matplotlib.lines.Line2D at 0x1f870c07208>]"
      ]
     },
     "execution_count": 5,
     "metadata": {},
     "output_type": "execute_result"
    },
    {
     "data": {
      "image/png": "[encoded data removed]",
      "text/plain": [
       "<Figure size 432x288 with 1 Axes>"
      ]
     },
     "metadata": {
      "needs_background": "light"
     },
     "output_type": "display_data"
    }
   ],
   "source": [
    "for i in range (inc-1):\n",
    "    e[i+1]=e[i]+e_rt*dt\n",
    "\n",
    "    yo_rt=5e-4\n",
    "    mc=(((t[i]/to)*(1+(yp[i]/yo))**(-n))**(1/m)-1)\n",
    "    if mc>0:\n",
    "        yp_rt=yo_rt*mc\n",
    "    else:\n",
    "        yp_rt=0\n",
    "    yp[i+1]=yp[i]+dt*yp_rt\n",
    "    t_rt=g*(e_rt-yp_rt)\n",
    "    t[i+1]=t[i]+dt*t_rt\n",
    "    strn[i+1]=e[i+1]\n",
    "    strs[i+1]=t[i+1]\n",
    "plot(strn,strs)\n",
    "    \n",
    "    \n",
    "    "
   ]
  },
  {
   "cell_type": "code",
   "execution_count": 25,
   "metadata": {},
   "outputs": [],
   "source": [
    "g=76e9\n",
    "to=9e8\n",
    "yo=.011842\n",
    "n=.01\n",
    "m=.01\n",
    "h=.3\n",
    "t=0\n",
    "yp=0\n",
    "mc=(((t/to)*(1+(yp/yo))**(-n))**(1/m)-1)"
   ]
  },
  {
   "cell_type": "code",
   "execution_count": 9,
   "metadata": {},
   "outputs": [
    {
     "name": "stdout",
     "output_type": "stream",
     "text": [
      "[[0.]\n",
      " [0.]\n",
      " [0.]\n",
      " [0.]\n",
      " [0.]\n",
      " [0.]\n",
      " [0.]\n",
      " [0.]\n",
      " [0.]\n",
      " [0.]]\n"
     ]
    }
   ],
   "source": []
  },
  {
   "cell_type": "code",
   "execution_count": null,
   "metadata": {},
   "outputs": [],
   "source": []
  }
 ],
 "metadata": {
  "kernelspec": {
   "display_name": "Python 3",
   "language": "python",
   "name": "python3"
  },
  "language_info": {
   "codemirror_mode": {
    "name": "ipython",
    "version": 3
   },
   "file_extension": ".py",
   "mimetype": "text/x-python",
   "name": "python",
   "nbconvert_exporter": "python",
   "pygments_lexer": "ipython3",
   "version": "3.7.0"
  }
 },
 "nbformat": 4,
 "nbformat_minor": 2
}
